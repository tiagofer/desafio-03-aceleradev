{
 "nbformat": 4,
 "nbformat_minor": 2,
 "metadata": {
  "language_info": {
   "name": "python",
   "codemirror_mode": {
    "name": "ipython",
    "version": 3
   },
   "version": "3.8.2-final"
  },
  "orig_nbformat": 2,
  "file_extension": ".py",
  "mimetype": "text/x-python",
  "name": "python",
  "npconvert_exporter": "python",
  "pygments_lexer": "ipython3",
  "version": 3,
  "kernelspec": {
   "name": "python38264bitmodulodoisconda03c9f1f35bf1422383db2d6f570098b4",
   "display_name": "Python 3.8.2 64-bit ('modulo_dois': conda)"
  }
 },
 "cells": [
  {
   "cell_type": "code",
   "execution_count": 18,
   "metadata": {},
   "outputs": [],
   "source": [
    "import pandas as pd \n",
    "import numpy as np \n",
    "from scipy import stats"
   ]
  },
  {
   "cell_type": "markdown",
   "metadata": {},
   "source": [
    "# Desafio Módulo 03 Codenation AceleraDev Data Science\n",
    "\n",
    "# Conhecendo melhor nossa base de consumidores: qual estado possui os clientes com melhores pontuações de crédito?\n",
    "\n",
    "## Objetivo\n",
    "\n",
    "Queremos conhecer melhor nossos clientes por estado. Para isso, iniciamos uma análise na pontuação de crédito. \n",
    "Para realizar a verificação inicial, precisamos de alguns valores.\n",
    "Os valores são a média, a mediana, a moda e o desvio padrão da pontuação de crédito."
   ]
  },
  {
   "cell_type": "code",
   "execution_count": 53,
   "metadata": {},
   "outputs": [
    {
     "data": {
      "text/html": "<div>\n<style scoped>\n    .dataframe tbody tr th:only-of-type {\n        vertical-align: middle;\n    }\n\n    .dataframe tbody tr th {\n        vertical-align: top;\n    }\n\n    .dataframe thead th {\n        text-align: right;\n    }\n</style>\n<table border=\"1\" class=\"dataframe\">\n  <thead>\n    <tr style=\"text-align: right;\">\n      <th></th>\n      <th>RowNumber</th>\n      <th>id</th>\n      <th>sobrenome</th>\n      <th>pontuacao_credito</th>\n      <th>estado_residencia</th>\n      <th>genero</th>\n      <th>idade</th>\n      <th>nivel_estabilidade</th>\n      <th>saldo_conta</th>\n      <th>numero_produtos</th>\n      <th>possui_cartao_de_credito</th>\n      <th>membro_ativo</th>\n    </tr>\n  </thead>\n  <tbody>\n    <tr>\n      <th>0</th>\n      <td>1</td>\n      <td>e7f44fcbd380d4cef7e6c232cc7e37895c3fd197</td>\n      <td>6d6e0aa1b9b413e442e2fb68df14b4fc3f91de50</td>\n      <td>619</td>\n      <td>SC</td>\n      <td>F</td>\n      <td>42</td>\n      <td>2</td>\n      <td>0.00</td>\n      <td>1</td>\n      <td>1</td>\n      <td>1</td>\n    </tr>\n    <tr>\n      <th>1</th>\n      <td>2</td>\n      <td>28dcb083ad90512da16b9430085c2cddb8ca5e12</td>\n      <td>48e1ad846796fa314f1b4a6702b83343eb5482c5</td>\n      <td>608</td>\n      <td>RS</td>\n      <td>F</td>\n      <td>41</td>\n      <td>1</td>\n      <td>83807.86</td>\n      <td>1</td>\n      <td>0</td>\n      <td>1</td>\n    </tr>\n    <tr>\n      <th>2</th>\n      <td>3</td>\n      <td>774bc378f787438c9c7594e536787d07a097a54b</td>\n      <td>f2b29d5d934de615812b697132e767dea0f1e9e2</td>\n      <td>502</td>\n      <td>SC</td>\n      <td>F</td>\n      <td>42</td>\n      <td>8</td>\n      <td>159660.80</td>\n      <td>3</td>\n      <td>1</td>\n      <td>0</td>\n    </tr>\n    <tr>\n      <th>3</th>\n      <td>4</td>\n      <td>043a71326f7096de155e7f0c559dc62b5e4b7239</td>\n      <td>85d5c9da7cddd8109ad32a6c348fe2bb10bf99f2</td>\n      <td>699</td>\n      <td>SC</td>\n      <td>F</td>\n      <td>39</td>\n      <td>1</td>\n      <td>0.00</td>\n      <td>2</td>\n      <td>0</td>\n      <td>0</td>\n    </tr>\n    <tr>\n      <th>4</th>\n      <td>5</td>\n      <td>37b3bb8ca243955fb3605ec7e1c2a4607cdb3b22</td>\n      <td>ddc89c837a6933639de75f28171057060bd322df</td>\n      <td>850</td>\n      <td>RS</td>\n      <td>F</td>\n      <td>43</td>\n      <td>2</td>\n      <td>125510.82</td>\n      <td>1</td>\n      <td>1</td>\n      <td>1</td>\n    </tr>\n  </tbody>\n</table>\n</div>",
      "text/plain": "   RowNumber                                        id  \\\n0          1  e7f44fcbd380d4cef7e6c232cc7e37895c3fd197   \n1          2  28dcb083ad90512da16b9430085c2cddb8ca5e12   \n2          3  774bc378f787438c9c7594e536787d07a097a54b   \n3          4  043a71326f7096de155e7f0c559dc62b5e4b7239   \n4          5  37b3bb8ca243955fb3605ec7e1c2a4607cdb3b22   \n\n                                  sobrenome  pontuacao_credito  \\\n0  6d6e0aa1b9b413e442e2fb68df14b4fc3f91de50                619   \n1  48e1ad846796fa314f1b4a6702b83343eb5482c5                608   \n2  f2b29d5d934de615812b697132e767dea0f1e9e2                502   \n3  85d5c9da7cddd8109ad32a6c348fe2bb10bf99f2                699   \n4  ddc89c837a6933639de75f28171057060bd322df                850   \n\n  estado_residencia genero  idade  nivel_estabilidade  saldo_conta  \\\n0                SC      F     42                   2         0.00   \n1                RS      F     41                   1     83807.86   \n2                SC      F     42                   8    159660.80   \n3                SC      F     39                   1         0.00   \n4                RS      F     43                   2    125510.82   \n\n   numero_produtos  possui_cartao_de_credito  membro_ativo  \n0                1                         1             1  \n1                1                         0             1  \n2                3                         1             0  \n3                2                         0             0  \n4                1                         1             1  "
     },
     "execution_count": 53,
     "metadata": {},
     "output_type": "execute_result"
    }
   ],
   "source": [
    "#import dataframe\n",
    "df_score = pd.read_csv('desafio1.csv')\n",
    "df_score.head(5)"
   ]
  },
  {
   "cell_type": "code",
   "execution_count": 54,
   "metadata": {},
   "outputs": [
    {
     "data": {
      "text/plain": "(7000, 12)"
     },
     "execution_count": 54,
     "metadata": {},
     "output_type": "execute_result"
    }
   ],
   "source": [
    "#tamanho do datframe\n",
    "df_score.shape"
   ]
  },
  {
   "cell_type": "code",
   "execution_count": 55,
   "metadata": {},
   "outputs": [
    {
     "data": {
      "text/plain": "RowNumber                     int64\nid                           object\nsobrenome                    object\npontuacao_credito             int64\nestado_residencia            object\ngenero                       object\nidade                         int64\nnivel_estabilidade            int64\nsaldo_conta                 float64\nnumero_produtos               int64\npossui_cartao_de_credito      int64\nmembro_ativo                  int64\ndtype: object"
     },
     "execution_count": 55,
     "metadata": {},
     "output_type": "execute_result"
    }
   ],
   "source": [
    "#validando os tipos das variáveis\n",
    "df_score.dtypes"
   ]
  },
  {
   "cell_type": "code",
   "execution_count": 56,
   "metadata": {},
   "outputs": [
    {
     "data": {
      "text/html": "<div>\n<style scoped>\n    .dataframe tbody tr th:only-of-type {\n        vertical-align: middle;\n    }\n\n    .dataframe tbody tr th {\n        vertical-align: top;\n    }\n\n    .dataframe thead th {\n        text-align: right;\n    }\n</style>\n<table border=\"1\" class=\"dataframe\">\n  <thead>\n    <tr style=\"text-align: right;\">\n      <th></th>\n      <th>colunas</th>\n      <th>tipos</th>\n      <th>Nan #</th>\n    </tr>\n  </thead>\n  <tbody>\n    <tr>\n      <th>RowNumber</th>\n      <td>RowNumber</td>\n      <td>int64</td>\n      <td>0</td>\n    </tr>\n    <tr>\n      <th>id</th>\n      <td>id</td>\n      <td>object</td>\n      <td>0</td>\n    </tr>\n    <tr>\n      <th>sobrenome</th>\n      <td>sobrenome</td>\n      <td>object</td>\n      <td>0</td>\n    </tr>\n    <tr>\n      <th>pontuacao_credito</th>\n      <td>pontuacao_credito</td>\n      <td>int64</td>\n      <td>0</td>\n    </tr>\n    <tr>\n      <th>estado_residencia</th>\n      <td>estado_residencia</td>\n      <td>object</td>\n      <td>0</td>\n    </tr>\n    <tr>\n      <th>genero</th>\n      <td>genero</td>\n      <td>object</td>\n      <td>0</td>\n    </tr>\n    <tr>\n      <th>idade</th>\n      <td>idade</td>\n      <td>int64</td>\n      <td>0</td>\n    </tr>\n    <tr>\n      <th>nivel_estabilidade</th>\n      <td>nivel_estabilidade</td>\n      <td>int64</td>\n      <td>0</td>\n    </tr>\n    <tr>\n      <th>saldo_conta</th>\n      <td>saldo_conta</td>\n      <td>float64</td>\n      <td>0</td>\n    </tr>\n    <tr>\n      <th>numero_produtos</th>\n      <td>numero_produtos</td>\n      <td>int64</td>\n      <td>0</td>\n    </tr>\n    <tr>\n      <th>possui_cartao_de_credito</th>\n      <td>possui_cartao_de_credito</td>\n      <td>int64</td>\n      <td>0</td>\n    </tr>\n    <tr>\n      <th>membro_ativo</th>\n      <td>membro_ativo</td>\n      <td>int64</td>\n      <td>0</td>\n    </tr>\n  </tbody>\n</table>\n</div>",
      "text/plain": "                                           colunas    tipos  Nan #\nRowNumber                                RowNumber    int64      0\nid                                              id   object      0\nsobrenome                                sobrenome   object      0\npontuacao_credito                pontuacao_credito    int64      0\nestado_residencia                estado_residencia   object      0\ngenero                                      genero   object      0\nidade                                        idade    int64      0\nnivel_estabilidade              nivel_estabilidade    int64      0\nsaldo_conta                            saldo_conta  float64      0\nnumero_produtos                    numero_produtos    int64      0\npossui_cartao_de_credito  possui_cartao_de_credito    int64      0\nmembro_ativo                          membro_ativo    int64      0"
     },
     "execution_count": 56,
     "metadata": {},
     "output_type": "execute_result"
    }
   ],
   "source": [
    "#criando metadados\n",
    "df_aux = pd.DataFrame({\n",
    "    'colunas': df_score.columns,\n",
    "    'tipos' : df_score.dtypes,\n",
    "    'Nan #' : df_score.isna().sum(),\n",
    "})\n",
    "df_aux"
   ]
  },
  {
   "cell_type": "code",
   "execution_count": 57,
   "metadata": {},
   "outputs": [
    {
     "data": {
      "text/plain": "array(['SC', 'RS', 'PR'], dtype=object)"
     },
     "execution_count": 57,
     "metadata": {},
     "output_type": "execute_result"
    }
   ],
   "source": [
    "#avaliando os estados presentes no dataset\n",
    "df_score['estado_residencia'].unique()"
   ]
  },
  {
   "cell_type": "code",
   "execution_count": 58,
   "metadata": {},
   "outputs": [
    {
     "data": {
      "text/html": "<div>\n<style scoped>\n    .dataframe tbody tr th:only-of-type {\n        vertical-align: middle;\n    }\n\n    .dataframe tbody tr th {\n        vertical-align: top;\n    }\n\n    .dataframe thead th {\n        text-align: right;\n    }\n</style>\n<table border=\"1\" class=\"dataframe\">\n  <thead>\n    <tr style=\"text-align: right;\">\n      <th></th>\n      <th>mean</th>\n      <th>median</th>\n      <th>std</th>\n      <th>&lt;lambda_0&gt;</th>\n    </tr>\n    <tr>\n      <th>estado_residencia</th>\n      <th></th>\n      <th></th>\n      <th></th>\n      <th></th>\n    </tr>\n  </thead>\n  <tbody>\n    <tr>\n      <th>PR</th>\n      <td>648.961294</td>\n      <td>650</td>\n      <td>98.607186</td>\n      <td>850</td>\n    </tr>\n    <tr>\n      <th>RS</th>\n      <td>651.105143</td>\n      <td>650</td>\n      <td>95.136598</td>\n      <td>850</td>\n    </tr>\n    <tr>\n      <th>SC</th>\n      <td>649.537653</td>\n      <td>653</td>\n      <td>97.233493</td>\n      <td>850</td>\n    </tr>\n  </tbody>\n</table>\n</div>",
      "text/plain": "                         mean  median        std  <lambda_0>\nestado_residencia                                           \nPR                 648.961294     650  98.607186         850\nRS                 651.105143     650  95.136598         850\nSC                 649.537653     653  97.233493         850"
     },
     "execution_count": 58,
     "metadata": {},
     "output_type": "execute_result"
    }
   ],
   "source": [
    "#calculando os dados por estado\n",
    "df_score = df_score.groupby('estado_residencia')['pontuacao_credito'].agg(['mean','median','std',lambda x: stats.mode(x)[0]])\n",
    "df_score"
   ]
  },
  {
   "cell_type": "code",
   "execution_count": 59,
   "metadata": {},
   "outputs": [],
   "source": [
    "#renomeando as colunas\n",
    "df_score.rename(columns={\n",
    "    'mean':'media',\n",
    "    'median':'mediana',\n",
    "    'std':'desvio_padrao',\n",
    "    '<lambda_0>':'moda'\n",
    "},inplace=True)"
   ]
  },
  {
   "cell_type": "code",
   "execution_count": 60,
   "metadata": {},
   "outputs": [],
   "source": [
    "#reset do index\n",
    "df_score = df_score.reset_index()"
   ]
  },
  {
   "cell_type": "code",
   "execution_count": 43,
   "metadata": {},
   "outputs": [],
   "source": [
    "#pivot da tabela para gerar a exportação no modelo exigido de Json.\n",
    "df_export = pd.pivot_table(df_score,values=['media','mediana','moda','desvio_padrao'],columns='estado_residencia')"
   ]
  },
  {
   "cell_type": "code",
   "execution_count": 61,
   "metadata": {},
   "outputs": [],
   "source": [
    "#exportando os dados para Json\n",
    "df_export.to_json('submission.json')"
   ]
  }
 ]
}